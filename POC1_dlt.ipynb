{
 "cells": [
  {
   "cell_type": "code",
   "execution_count": 0,
   "metadata": {
    "application/vnd.databricks.v1+cell": {
     "cellMetadata": {},
     "inputWidgets": {},
     "nuid": "32c45a88-9c0b-4d58-b5d5-8a7355a56745",
     "showTitle": false,
     "tableResultSettingsMap": {},
     "title": ""
    }
   },
   "outputs": [],
   "source": [
    "\n",
    "CREATE STREAMING LIVE TABLE bronze_orders\n",
    "TBLPROPERTIES (\"quality\" = \"bronze\")\n",
    "COMMENT \"Raw data loaded from volume using Auto Loader\"\n",
    "AS SELECT * FROM cloud_files(\n",
    "  \"/Volumes/dev_catalog/default/raw_volume/new_volume/\",\n",
    "  \"csv\", \n",
    "   map(\n",
    "    \"inferSchema\", \"true\",\n",
    "    \"header\", \"true\",\n",
    "    \"cloudFiles.schemaLocation\", \"/Volumes/dev_catalog/default/raw_volume/schema_metadata/\"\n",
    "  )\n",
    ");"
   ]
  },
  {
   "cell_type": "code",
   "execution_count": 0,
   "metadata": {
    "application/vnd.databricks.v1+cell": {
     "cellMetadata": {},
     "inputWidgets": {},
     "nuid": "9da02c6d-6c7b-4696-9307-73489190c16c",
     "showTitle": false,
     "tableResultSettingsMap": {},
     "title": ""
    }
   },
   "outputs": [],
   "source": [
    "CREATE LIVE TABLE silver_orders\n",
    "TBLPROPERTIES (\"quality\" = \"silver\")\n",
    "COMMENT \"Cleaned and validated data with enrichment\"\n",
    "AS\n",
    "SELECT\n",
    "  order_id,\n",
    "  customer_id,\n",
    "  product_id,\n",
    "  product_name,\n",
    "  category,\n",
    "  brand,\n",
    "  order_status,\n",
    "  payment_method,\n",
    "  location,\n",
    "  CAST(quantity AS INT) AS quantity,\n",
    "  gender,\n",
    "  age,\n",
    "  CAST(price AS DOUBLE) AS price,\n",
    "  CAST(order_time AS TIMESTAMP) AS order_time,\n",
    "  CAST(quantity AS INT) * CAST(price AS DOUBLE) AS total_sales\n",
    "FROM LIVE.bronze_orders\n",
    "WHERE \n",
    "  quantity > 0\n",
    "  AND price IS NOT NULL\n",
    "  AND customer_id IS NOT NULL\n",
    "  AND product_id IS NOT NULL\n",
    "  AND order_status IN (\"placed\", \"shipped\", \"delivered\", \"cancelled\");\n"
   ]
  },
  {
   "cell_type": "code",
   "execution_count": 0,
   "metadata": {
    "application/vnd.databricks.v1+cell": {
     "cellMetadata": {},
     "inputWidgets": {},
     "nuid": "3a888acf-f839-457c-865e-ec11b627a754",
     "showTitle": false,
     "tableResultSettingsMap": {},
     "title": ""
    }
   },
   "outputs": [],
   "source": [
    "%sql\n",
    "CREATE LIVE TABLE gold_order_details\n",
    "TBLPROPERTIES (\"quality\" = \"gold\")\n",
    "COMMENT \"Final curated order details excluding order_id and product_id\"\n",
    "AS\n",
    "SELECT\n",
    "  customer_id,\n",
    "  product_name,\n",
    "  category,\n",
    "  brand,\n",
    "  order_status,\n",
    "  payment_method,\n",
    "  location,\n",
    "  gender,\n",
    "  age,\n",
    "  quantity,\n",
    "  price,\n",
    "  order_time,\n",
    "  total_sales\n",
    "FROM LIVE.silver_orders;\n"
   ]
  },
  {
   "cell_type": "code",
   "execution_count": 0,
   "metadata": {
    "application/vnd.databricks.v1+cell": {
     "cellMetadata": {},
     "inputWidgets": {},
     "nuid": "0932974d-a86b-471b-a517-a3b0042c3a4b",
     "showTitle": false,
     "tableResultSettingsMap": {},
     "title": ""
    }
   },
   "outputs": [],
   "source": [
    "select * from dev_catalog.default.gold_order_details"
   ]
  }
 ],
 "metadata": {
  "application/vnd.databricks.v1+notebook": {
   "computePreferences": null,
   "dashboards": [],
   "environmentMetadata": {
    "base_environment": "",
    "environment_version": "2"
   },
   "inputWidgetPreferences": null,
   "language": "sql",
   "notebookMetadata": {
    "pythonIndentUnit": 4
   },
   "notebookName": "POC1_dlt",
   "widgets": {}
  },
  "language_info": {
   "name": "sql"
  }
 },
 "nbformat": 4,
 "nbformat_minor": 0
}
