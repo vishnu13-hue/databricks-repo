{
 "cells": [
  {
   "cell_type": "code",
   "execution_count": 0,
   "metadata": {
    "application/vnd.databricks.v1+cell": {
     "cellMetadata": {
      "byteLimit": 2048000,
      "rowLimit": 10000
     },
     "inputWidgets": {},
     "nuid": "76590409-99fd-4bd6-8172-78fccd3540be",
     "showTitle": false,
     "tableResultSettingsMap": {},
     "title": ""
    }
   },
   "outputs": [],
   "source": [
    "from pyspark.sql.functions import col, to_date, year, month\n",
    "\n",
    "# Read bronze data with aliases\n",
    "claims_df = spark.table(\"dev_catalog.default.bronze_hospital_dataset\").alias(\"claims\")\n",
    "txn_df = spark.table(\"dev_catalog.default.bronze_transactions\").alias(\"txn\")\n",
    "\n",
    "# Clean + type cast claims\n",
    "typed_claims_df = (\n",
    "    claims_df.dropna(subset=[\"ClaimID\", \"EncounterID\"])\n",
    "    .withColumn(\"Deductible\", col(\"Deductible\").cast(\"double\"))\n",
    "    .withColumn(\"Coinsurance\", col(\"Coinsurance\").cast(\"double\"))\n",
    "    .withColumn(\"Copay\", col(\"Copay\").cast(\"double\"))\n",
    "    .withColumn(\"PaidAmount\", col(\"PaidAmount\").cast(\"double\"))\n",
    "    .withColumn(\"ClaimStatus\", col(\"ClaimStatus\").cast(\"string\"))\n",
    "    .dropDuplicates([\"ClaimID\"])\n",
    "    .alias(\"claims\")\n",
    ")\n",
    "\n",
    "# Clean + type cast transactions\n",
    "typed_txn_df = (\n",
    "    txn_df.dropna(subset=[\"TransactionID\", \"EncounterID\", \"Amount\"])\n",
    "    .withColumn(\"Amount\", col(\"Amount\").cast(\"double\"))\n",
    "    .withColumn(\"TransactionDate\", to_date(col(\"VisitDate\"), \"yyyy-MM-dd\"))\n",
    "    .dropDuplicates([\"TransactionID\"])\n",
    "    .alias(\"txn\")\n",
    ")\n",
    "\n",
    "# Join and select only needed columns with aliases\n",
    "joined_df = (\n",
    "    typed_claims_df.join(typed_txn_df, on=\"EncounterID\", how=\"inner\")\n",
    "    .select(\n",
    "        col(\"claims.ClaimID\"),\n",
    "        col(\"claims.EncounterID\"),\n",
    "        col(\"claims.Deductible\"),\n",
    "        col(\"claims.Coinsurance\"),\n",
    "        col(\"claims.Copay\"),\n",
    "        col(\"claims.PaidAmount\"),\n",
    "        col(\"claims.ClaimStatus\"),\n",
    "        col(\"txn.TransactionID\"),\n",
    "        col(\"txn.Amount\"),\n",
    "        col(\"txn.TransactionDate\")\n",
    "    )\n",
    "    .withColumn(\"NetPayment\", col(\"PaidAmount\") - (col(\"Deductible\") + col(\"Coinsurance\") + col(\"Copay\")))\n",
    "    .withColumn(\"ClaimYear\", year(col(\"TransactionDate\")))\n",
    "    .withColumn(\"ClaimMonth\", month(col(\"TransactionDate\")))\n",
    ")\n",
    "\n",
    "# Save as Delta table\n",
    "joined_df.write.mode(\"overwrite\").format(\"delta\").saveAsTable(\"dev_catalog.default.Newsilver_claims_transactions\")\n",
    "\n"
   ]
  }
 ],
 "metadata": {
  "application/vnd.databricks.v1+notebook": {
   "computePreferences": null,
   "dashboards": [],
   "environmentMetadata": {
    "base_environment": "",
    "environment_version": "2"
   },
   "inputWidgetPreferences": null,
   "language": "python",
   "notebookMetadata": {
    "pythonIndentUnit": 4
   },
   "notebookName": "Silver_layer",
   "widgets": {}
  },
  "language_info": {
   "name": "python"
  }
 },
 "nbformat": 4,
 "nbformat_minor": 0
}
