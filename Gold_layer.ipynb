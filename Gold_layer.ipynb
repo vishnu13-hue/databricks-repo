{
 "cells": [
  {
   "cell_type": "code",
   "execution_count": 0,
   "metadata": {
    "application/vnd.databricks.v1+cell": {
     "cellMetadata": {},
     "inputWidgets": {},
     "nuid": "d809676d-1886-403c-b3fd-f7e855729d71",
     "showTitle": false,
     "tableResultSettingsMap": {},
     "title": ""
    }
   },
   "outputs": [],
   "source": [
    "# ---------------------------------------------\n",
    "# Gold Notebook (gold_notebook.py)\n",
    "# ---------------------------------------------\n",
    "from pyspark.sql.functions import sum, countDistinct\n",
    "\n",
    "# Read silver layer\n",
    "df = spark.table(\"dev_catalog.default.Newsilver_claims_transactions\")\n",
    "\n",
    "# Aggregate summary\n",
    "summary_df = (\n",
    "    df.groupBy(\"ClaimStatus\", \"ClaimYear\", \"ClaimMonth\")\n",
    "    .agg(\n",
    "        sum(\"PaidAmount\").alias(\"TotalPaidAmount\"),\n",
    "        sum(\"NetPayment\").alias(\"TotalNetPayment\"),\n",
    "        countDistinct(\"ClaimID\").alias(\"Unique_Claims\")\n",
    "    )\n",
    ")\n",
    "\n",
    "summary_df.write.mode(\"overwrite\").format(\"delta\").saveAsTable(\"dev_catalog.default.gold_claim_summary\")\n"
   ]
  },
  {
   "cell_type": "code",
   "execution_count": null,
   "metadata": {},
   "outputs": [],
   "source": [
    "print(\"hello databricks\")"
   ]
  }
 ],
 "metadata": {
  "application/vnd.databricks.v1+notebook": {
   "computePreferences": null,
   "dashboards": [],
   "environmentMetadata": {
    "base_environment": "",
    "environment_version": "2"
   },
   "inputWidgetPreferences": null,
   "language": "python",
   "notebookMetadata": {
    "pythonIndentUnit": 4
   },
   "notebookName": "Gold_layer",
   "widgets": {}
  },
  "language_info": {
   "name": "python"
  }
 },
 "nbformat": 4,
 "nbformat_minor": 0
}
