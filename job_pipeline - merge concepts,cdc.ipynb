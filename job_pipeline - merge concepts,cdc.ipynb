{
 "cells": [
  {
   "cell_type": "code",
   "execution_count": 0,
   "metadata": {
    "application/vnd.databricks.v1+cell": {
     "cellMetadata": {
      "byteLimit": 2048000,
      "rowLimit": 10000
     },
     "inputWidgets": {},
     "nuid": "7a029aaa-e357-4bc6-b8b4-f5fe485876f9",
     "showTitle": false,
     "tableResultSettingsMap": {},
     "title": ""
    }
   },
   "outputs": [],
   "source": [
    "dbutils.widgets.text(\"input_path\", \"\", \"Enter File Path\")\n"
   ]
  },
  {
   "cell_type": "code",
   "execution_count": 0,
   "metadata": {
    "application/vnd.databricks.v1+cell": {
     "cellMetadata": {
      "byteLimit": 2048000,
      "rowLimit": 10000
     },
     "inputWidgets": {},
     "nuid": "564a6881-dcf3-4e14-9e03-82f3375e95be",
     "showTitle": false,
     "tableResultSettingsMap": {},
     "title": ""
    }
   },
   "outputs": [],
   "source": [
    "# ------------------------------------------------------\n",
    "# Databricks Job Pipeline Version of CDC POC (Non-DLT)\n",
    "# ------------------------------------------------------\n",
    "# This version is for jobs, using SQL + PySpark + parameters\n",
    "# Features: parameterized dataset path, Bronze → Silver → Gold pipeline\n",
    "\n",
    "from pyspark.sql.functions import *\n",
    "from pyspark.sql.types import StructType, StructField, StringType, IntegerType, DoubleType\n",
    "import sys\n",
    "\n",
    "# ----------------------------\n",
    "# 🔹 Parameter Inputs\n",
    "# ----------------------------\n",
    "input_path = dbutils.widgets.get(\"input_path\")  # e.g. /mnt/data/transactions_cdc_200.json\n",
    "silver_table = \"dev_catalog.default.silver_job_transactions\"\n",
    "gold_table = \"dev_catalog.default.gold_job_summary\"\n"
   ]
  },
  {
   "cell_type": "code",
   "execution_count": 0,
   "metadata": {
    "application/vnd.databricks.v1+cell": {
     "cellMetadata": {
      "byteLimit": 2048000,
      "rowLimit": 10000
     },
     "inputWidgets": {},
     "nuid": "b832cc34-2ba4-47cd-8d59-e44b8e31065e",
     "showTitle": false,
     "tableResultSettingsMap": {},
     "title": ""
    }
   },
   "outputs": [],
   "source": [
    "# ------------------------------------------------------\n",
    "# Databricks Job Pipeline with CDC + SCD Type 2 (Merge)\n",
    "\n",
    "\n",
    "# ----------------------------\n",
    "# 🟤 Bronze Layer - Raw Load (View Only)\n",
    "# ----------------------------\n",
    "schema = StructType([\n",
    "    StructField(\"transaction_id\", StringType()),\n",
    "    StructField(\"order_id\", StringType()),\n",
    "    StructField(\"customer_id\", StringType()),\n",
    "    StructField(\"product_id\", StringType()),\n",
    "    StructField(\"status\", StringType()),\n",
    "    StructField(\"quantity\", IntegerType()),\n",
    "    StructField(\"price\", DoubleType()),\n",
    "    StructField(\"event_ts\", StringType()),\n",
    "    StructField(\"payment_method\", StringType()),\n",
    "    StructField(\"currency\", StringType()),\n",
    "    StructField(\"location\", StringType()),\n",
    "    StructField(\"tax\", DoubleType()),\n",
    "    StructField(\"discount\", DoubleType())\n",
    "])\n",
    "\n",
    "bronze_df = (\n",
    "    spark.read.schema(schema).json(input_path)\n",
    "    .withColumn(\"ingest_ts\", current_timestamp())\n",
    "    .withColumn(\"event_ts\", to_timestamp(\"event_ts\"))\n",
    ")\n",
    "bronze_df.createOrReplaceTempView(\"bronze_view\")\n",
    "\n",
    "\n",
    "\n"
   ]
  },
  {
   "cell_type": "code",
   "execution_count": 0,
   "metadata": {
    "application/vnd.databricks.v1+cell": {
     "cellMetadata": {
      "byteLimit": 2048000,
      "implicitDf": true,
      "rowLimit": 10000
     },
     "inputWidgets": {},
     "nuid": "29a082d5-b6a5-4b5e-b779-5f304e82098b",
     "showTitle": false,
     "tableResultSettingsMap": {},
     "title": ""
    }
   },
   "outputs": [],
   "source": [
    "%sql\n",
    "\n",
    "-- ⚪ Silver Layer - Merge CDC with SCD Type 2\n",
    "-- Prepare staged view from bronze view\n",
    "CREATE OR REPLACE TEMP VIEW updates AS\n",
    "SELECT *,\n",
    "       true AS is_active,\n",
    "       CAST(event_ts AS TIMESTAMP) AS effective_start,\n",
    "       CAST(NULL AS TIMESTAMP) AS effective_end\n",
    "FROM bronze_view\n",
    "WHERE status != 'delete';\n",
    "\n",
    "-- Create the silver SCD2 table if not exists\n",
    "CREATE TABLE IF NOT EXISTS dev_catalog.default.silver_transaction_scd2 (\n",
    "  transaction_id STRING,\n",
    "  order_id STRING,\n",
    "  customer_id STRING,\n",
    "  product_id STRING,\n",
    "  status STRING,\n",
    "  quantity INT,\n",
    "  price DOUBLE,\n",
    "  event_ts TIMESTAMP,\n",
    "  payment_method STRING,\n",
    "  currency STRING,\n",
    "  location STRING,\n",
    "  tax DOUBLE,\n",
    "  discount DOUBLE,\n",
    "  is_active BOOLEAN,\n",
    "  effective_start TIMESTAMP,\n",
    "  effective_end TIMESTAMP\n",
    ") USING DELTA;\n",
    "\n",
    "-- Merge logic for SCD Type 2\n",
    "MERGE INTO dev_catalog.default.silver_transaction_scd2 target\n",
    "USING updates source\n",
    "ON target.transaction_id = source.transaction_id AND target.is_active = true\n",
    "WHEN MATCHED AND (\n",
    "  target.quantity != source.quantity OR\n",
    "  target.price != source.price OR\n",
    "  target.status != source.status\n",
    ") THEN UPDATE SET\n",
    "  is_active = false,\n",
    "  effective_end = source.event_ts\n",
    "WHEN NOT MATCHED THEN INSERT *;\n",
    "\n",
    "\n",
    "-- ✅ SQL CDC + SCD Type 2 + Gold Summary executed"
   ]
  },
  {
   "cell_type": "code",
   "execution_count": 0,
   "metadata": {
    "application/vnd.databricks.v1+cell": {
     "cellMetadata": {
      "byteLimit": 2048000,
      "implicitDf": true,
      "rowLimit": 10000
     },
     "inputWidgets": {},
     "nuid": "7bc123a1-427c-4f26-9dfc-627de3a2d827",
     "showTitle": false,
     "tableResultSettingsMap": {},
     "title": ""
    }
   },
   "outputs": [],
   "source": [
    "%sql\n",
    "-- 🟡 Gold Layer - Aggregated Table (Physical Table)\n",
    "CREATE OR REPLACE TEMP VIEW active_transactions AS\n",
    "SELECT *\n",
    "FROM dev_catalog.default.silver_transaction_scd2\n",
    "WHERE is_active = true;\n",
    "\n",
    "CREATE OR REPLACE TABLE dev_catalog.default.gold_job_summary\n",
    "USING DELTA\n",
    "AS\n",
    "SELECT customer_id,\n",
    "       location,\n",
    "       SUM(quantity) AS total_items,\n",
    "       SUM(price) AS total_spent,\n",
    "       SUM(discount) AS total_discount,\n",
    "       SUM(tax) AS total_tax\n",
    "FROM active_transactions\n",
    "GROUP BY customer_id, location;\n"
   ]
  },
  {
   "cell_type": "code",
   "execution_count": 0,
   "metadata": {
    "application/vnd.databricks.v1+cell": {
     "cellMetadata": {
      "byteLimit": 2048000,
      "implicitDf": true,
      "rowLimit": 10000
     },
     "inputWidgets": {},
     "nuid": "fbe9e6ab-ab85-4472-ba7c-b78d4ebe14af",
     "showTitle": false,
     "tableResultSettingsMap": {},
     "title": ""
    }
   },
   "outputs": [],
   "source": [
    "%sql\n",
    "select * from dev_catalog.default.silver_transaction_scd2 "
   ]
  },
  {
   "cell_type": "code",
   "execution_count": 0,
   "metadata": {
    "application/vnd.databricks.v1+cell": {
     "cellMetadata": {
      "byteLimit": 2048000,
      "implicitDf": true,
      "rowLimit": 10000
     },
     "inputWidgets": {},
     "nuid": "8587c08b-9f82-4510-b8ca-b93e68b447d9",
     "showTitle": false,
     "tableResultSettingsMap": {},
     "title": ""
    }
   },
   "outputs": [],
   "source": [
    "%sql\n",
    "select * from dev_catalog.default.gold_job_summary"
   ]
  },
  {
   "cell_type": "code",
   "execution_count": 0,
   "metadata": {
    "application/vnd.databricks.v1+cell": {
     "cellMetadata": {},
     "inputWidgets": {},
     "nuid": "b5262796-9622-4e4b-8229-5722952b8501",
     "showTitle": false,
     "tableResultSettingsMap": {},
     "title": ""
    }
   },
   "outputs": [],
   "source": [
    "from pyspark.sql.functions import *\n",
    "from datetime import datetime\n",
    "from pyspark.sql import Row\n",
    "\n",
    "# Sample 5-row test data\n",
    "test_data = [\n",
    "    # ✅ Update existing\n",
    "    Row(transaction_id=\"TXN0001\", order_id=\"ORD0001\", customer_id=\"CUST001\", product_id=\"PROD001\", status=\"update\", quantity=3, price=300.0, event_ts=datetime.now().isoformat(), payment_method=\"UPI\", currency=\"INR\", location=\"Delhi\", tax=12.0, discount=20.0),\n",
    "    Row(transaction_id=\"TXN0002\", order_id=\"ORD0002\", customer_id=\"CUST002\", product_id=\"PROD002\", status=\"update\", quantity=1, price=150.0, event_ts=datetime.now().isoformat(), payment_method=\"Wallet\", currency=\"INR\", location=\"Mumbai\", tax=10.0, discount=10.0),\n",
    "\n",
    "    # ✅ New inserts\n",
    "    Row(transaction_id=\"TXN9996\", order_id=\"ORD9996\", customer_id=\"CUST010\", product_id=\"PROD020\", status=\"insert\", quantity=2, price=220.0, event_ts=datetime.now().isoformat(), payment_method=\"CreditCard\", currency=\"USD\", location=\"Pune\", tax=8.0, discount=15.0),\n",
    "    Row(transaction_id=\"TXN9997\", order_id=\"ORD9997\", customer_id=\"CUST011\", product_id=\"PROD021\", status=\"insert\", quantity=1, price=120.0, event_ts=datetime.now().isoformat(), payment_method=\"NetBanking\", currency=\"EUR\", location=\"Chennai\", tax=5.0, discount=5.0),\n",
    "    Row(transaction_id=\"TXN9998\", order_id=\"ORD9998\", customer_id=\"CUST012\", product_id=\"PROD022\", status=\"insert\", quantity=4, price=400.0, event_ts=datetime.now().isoformat(), payment_method=\"UPI\", currency=\"INR\", location=\"Hyderabad\", tax=18.0, discount=25.0)\n",
    "]\n",
    "\n",
    "df = spark.createDataFrame(test_data)\n",
    "\n",
    "# Simulate Bronze View load\n",
    "df.createOrReplaceTempView(\"v_bronze_transactions\")\n"
   ]
  }
 ],
 "metadata": {
  "application/vnd.databricks.v1+notebook": {
   "computePreferences": null,
   "dashboards": [],
   "environmentMetadata": {
    "base_environment": "",
    "environment_version": "2"
   },
   "inputWidgetPreferences": null,
   "language": "python",
   "notebookMetadata": {
    "mostRecentlyExecutedCommandWithImplicitDF": {
     "commandId": 4948933253794525,
     "dataframes": [
      "_sqldf"
     ]
    },
    "pythonIndentUnit": 4
   },
   "notebookName": "job_pipeline - merge concepts,cdc",
   "widgets": {
    "input_path": {
     "currentValue": "/Volumes/dev_catalog/default/raw_json_data/landing/raw/new_transactions_cdc.json",
     "nuid": "6fe310dd-1f04-4472-962b-6981cbb03058",
     "typedWidgetInfo": {
      "autoCreated": false,
      "defaultValue": "",
      "label": "Enter File Path",
      "name": "input_path",
      "options": {
       "widgetDisplayType": "Text",
       "validationRegex": null
      },
      "parameterDataType": "String"
     },
     "widgetInfo": {
      "widgetType": "text",
      "defaultValue": "",
      "label": "Enter File Path",
      "name": "input_path",
      "options": {
       "widgetType": "text",
       "autoCreated": false,
       "validationRegex": null
      }
     }
    },
    "param_2": {
     "currentValue": "",
     "nuid": "95d0bb3f-fc6f-4d46-a1b9-450a7bde4cdc",
     "typedWidgetInfo": {
      "autoCreated": false,
      "defaultValue": "",
      "label": null,
      "name": "param_2",
      "options": {
       "widgetDisplayType": "Text",
       "validationRegex": null
      },
      "parameterDataType": "String"
     },
     "widgetInfo": {
      "widgetType": "text",
      "defaultValue": "",
      "label": null,
      "name": "param_2",
      "options": {
       "widgetType": "text",
       "autoCreated": false,
       "validationRegex": null
      }
     }
    },
    "param_3": {
     "currentValue": "",
     "nuid": "b65e135f-f4c5-4801-9136-a3ae59933cda",
     "typedWidgetInfo": {
      "autoCreated": false,
      "defaultValue": "",
      "label": null,
      "name": "param_3",
      "options": {
       "widgetDisplayType": "Text",
       "validationRegex": null
      },
      "parameterDataType": "String"
     },
     "widgetInfo": {
      "widgetType": "text",
      "defaultValue": "",
      "label": null,
      "name": "param_3",
      "options": {
       "widgetType": "text",
       "autoCreated": false,
       "validationRegex": null
      }
     }
    },
    "param_4": {
     "currentValue": "",
     "nuid": "be9bbb0b-71f0-405e-9cd6-d544e0b2ecf0",
     "typedWidgetInfo": {
      "autoCreated": false,
      "defaultValue": "",
      "label": null,
      "name": "param_4",
      "options": {
       "widgetDisplayType": "Text",
       "validationRegex": null
      },
      "parameterDataType": "String"
     },
     "widgetInfo": {
      "widgetType": "text",
      "defaultValue": "",
      "label": null,
      "name": "param_4",
      "options": {
       "widgetType": "text",
       "autoCreated": false,
       "validationRegex": null
      }
     }
    }
   }
  },
  "language_info": {
   "name": "python"
  }
 },
 "nbformat": 4,
 "nbformat_minor": 0
}
