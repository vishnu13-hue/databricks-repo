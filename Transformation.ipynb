{
 "cells": [
  {
   "cell_type": "markdown",
   "metadata": {
    "application/vnd.databricks.v1+cell": {
     "cellMetadata": {
      "byteLimit": 2048000,
      "rowLimit": 10000
     },
     "inputWidgets": {},
     "nuid": "0189d693-41f7-4202-99c7-7f0a757e7c2f",
     "showTitle": false,
     "tableResultSettingsMap": {},
     "title": ""
    }
   },
   "source": [
    "### Loading the medical raw dataset into volume"
   ]
  },
  {
   "cell_type": "markdown",
   "metadata": {
    "application/vnd.databricks.v1+cell": {
     "cellMetadata": {
      "byteLimit": 2048000,
      "rowLimit": 10000
     },
     "inputWidgets": {},
     "nuid": "7ac4409b-31e5-4f91-95c6-cc2a0708fa29",
     "showTitle": false,
     "tableResultSettingsMap": {},
     "title": ""
    }
   },
   "source": [
    "### Bronze Layer "
   ]
  },
  {
   "cell_type": "code",
   "execution_count": 0,
   "metadata": {
    "application/vnd.databricks.v1+cell": {
     "cellMetadata": {
      "byteLimit": 2048000,
      "rowLimit": 10000
     },
     "inputWidgets": {},
     "nuid": "6a4bf3d0-3833-4230-a06c-778d80f719e5",
     "showTitle": false,
     "tableResultSettingsMap": {},
     "title": ""
    }
   },
   "outputs": [],
   "source": [
    "import dlt\n",
    "from pyspark.sql.functions import *\n",
    "\n",
    "@dlt.table(name=\"bronze_hospital_dataset\", comment=\"Raw hospital data\")\n",
    "def load_patients():\n",
    "    return (\n",
    "        spark.read.option(\"header\", True).csv(\"/Volumes/dev_catalog/default/raw_volume/hospital_datasets/hospital1_claim_data.csv\")\n",
    "        .withColumn(\"ingest_timestamp\", current_timestamp())\n",
    "    )\n",
    "\n"
   ]
  },
  {
   "cell_type": "code",
   "execution_count": 0,
   "metadata": {
    "application/vnd.databricks.v1+cell": {
     "cellMetadata": {
      "byteLimit": 2048000,
      "rowLimit": 10000
     },
     "inputWidgets": {},
     "nuid": "f592a56a-1056-4f4a-aad5-780808dbdd04",
     "showTitle": false,
     "tableResultSettingsMap": {},
     "title": ""
    }
   },
   "outputs": [],
   "source": [
    "@dlt.table(name=\"bronze_transactions\")\n",
    "def load_encounters():\n",
    "    return spark.read.option(\"header\", True).csv(\"/Volumes/dev_catalog/default/raw_volume/hospital_datasets/transactions.csv\")"
   ]
  },
  {
   "cell_type": "markdown",
   "metadata": {
    "application/vnd.databricks.v1+cell": {
     "cellMetadata": {
      "byteLimit": 2048000,
      "rowLimit": 10000
     },
     "inputWidgets": {},
     "nuid": "20d309eb-61a3-4c0b-8796-1df23e4cd0c6",
     "showTitle": false,
     "tableResultSettingsMap": {},
     "title": ""
    }
   },
   "source": [
    "### Silver Layer"
   ]
  },
  {
   "cell_type": "code",
   "execution_count": 0,
   "metadata": {
    "application/vnd.databricks.v1+cell": {
     "cellMetadata": {
      "byteLimit": 2048000,
      "rowLimit": 10000
     },
     "inputWidgets": {},
     "nuid": "f94cc0eb-1fc9-41c5-9326-8e4882200199",
     "showTitle": false,
     "tableResultSettingsMap": {},
     "title": ""
    }
   },
   "outputs": [],
   "source": [
    "import dlt\n",
    "from pyspark.sql.functions import col, to_date, year, month\n",
    "\n",
    "@dlt.table(name=\"silver_claims_transactions\")\n",
    "def transform_claims_transactions():\n",
    "    claims_df = dlt.read(\"bronze_hospital_dataset\")\n",
    "    txn_df = dlt.read(\"bronze_transactions\")\n",
    "\n",
    "    # Clean + type cast claims\n",
    "    Hospital_df = (\n",
    "        claims_df\n",
    "        .dropna(subset=[\"ClaimID\", \"EncounterID\"])\n",
    "        .withColumn(\"Deductible\", col(\"Deductible\").cast(\"double\"))\n",
    "        .withColumn(\"Coinsurance\", col(\"Coinsurance\").cast(\"double\"))\n",
    "        .withColumn(\"Copay\", col(\"Copay\").cast(\"double\"))\n",
    "        .withColumn(\"PaidAmount\", col(\"PaidAmount\").cast(\"double\"))\n",
    "        .withColumn(\"ClaimStatus\", col(\"ClaimStatus\").cast(\"string\"))\n",
    "        .dropDuplicates([\"ClaimID\"])\n",
    "    )\n",
    "\n",
    "    # Clean + type cast transactions\n",
    "    trans_df = (\n",
    "        txn_df\n",
    "        .dropna(subset=[\"TransactionID\", \"EncounterID\", \"Amount\"])\n",
    "        .withColumn(\"Amount\", col(\"Amount\").cast(\"double\"))\n",
    "        .withColumn(\"TransactionDate\", to_date(col(\"TransactionDate\"), \"yyyy-MM-dd\"))\n",
    "        .dropDuplicates([\"TransactionID\"])\n",
    "    )\n",
    "\n",
    "    # Join on encounter_id\n",
    "    joined_df = (\n",
    "        Hospital_df .join(trans_df, on=\"EncounterID\", how=\"inner\")\n",
    "        .withColumn(\"NetPayment\", col(\"PaidAmount\") - (col(\"Deductible\") + col(\"Coinsurance\") + col(\"Copay\")))\n",
    "        .withColumn(\"ClaimYear\", year(\"TransactionDate\"))\n",
    "        .withColumn(\"ClaimMonth\", month(\"TransactionDate\"))\n",
    "    )\n",
    "\n",
    "    return joined_df\n",
    "\n",
    "\n"
   ]
  },
  {
   "cell_type": "markdown",
   "metadata": {
    "application/vnd.databricks.v1+cell": {
     "cellMetadata": {
      "byteLimit": 2048000,
      "rowLimit": 10000
     },
     "inputWidgets": {},
     "nuid": "2dca13ef-e442-4f6f-8dd3-5f217629eb30",
     "showTitle": false,
     "tableResultSettingsMap": {},
     "title": ""
    }
   },
   "source": [
    "### Gold Layer"
   ]
  },
  {
   "cell_type": "code",
   "execution_count": 0,
   "metadata": {
    "application/vnd.databricks.v1+cell": {
     "cellMetadata": {
      "byteLimit": 2048000,
      "rowLimit": 10000
     },
     "inputWidgets": {},
     "nuid": "c57310bf-bde3-4e78-a690-86cef86d1998",
     "showTitle": false,
     "tableResultSettingsMap": {},
     "title": ""
    }
   },
   "outputs": [],
   "source": [
    "@dlt.table(name=\"gold_claim_summary\")\n",
    "def claim_summary():\n",
    "    df = dlt.read(\"silver_claims_transactions\")\n",
    "\n",
    "    return (\n",
    "        df.groupBy(\"ClaimStatus\", \"ClaimYear\", \"ClaimMonth\")\n",
    "          .agg(\n",
    "              sum(\"PaidAmount\").alias(\"TotalPaidAmount\"),\n",
    "              sum(\"NetPayment\").alias(\"TotalNetPayment\"),\n",
    "              countDistinct(\"ClaimID\").alias(\"Unique_Claims\")\n",
    "          )\n",
    "    )\n"
   ]
  },
  {
   "cell_type": "code",
   "execution_count": 0,
   "metadata": {
    "application/vnd.databricks.v1+cell": {
     "cellMetadata": {
      "byteLimit": 2048000,
      "rowLimit": 10000
     },
     "inputWidgets": {},
     "nuid": "f7a89144-c54b-4276-8d3f-1b9d286d496c",
     "showTitle": false,
     "tableResultSettingsMap": {},
     "title": ""
    }
   },
   "outputs": [],
   "source": [
    "print(\"hello world\")"
   ]
  },
  {
   "cell_type": "code",
   "execution_count": 0,
   "metadata": {
    "application/vnd.databricks.v1+cell": {
     "cellMetadata": {
      "byteLimit": 2048000,
      "implicitDf": true,
      "rowLimit": 10000
     },
     "inputWidgets": {},
     "nuid": "e1fab8d3-26c3-406a-a890-138a3afaf583",
     "showTitle": false,
     "tableResultSettingsMap": {},
     "title": ""
    }
   },
   "outputs": [],
   "source": [
    "%sql\n",
    "select * from dev_catalog.default.newsilver_claims_transactions\n"
   ]
  },
  {
   "cell_type": "code",
   "execution_count": 0,
   "metadata": {
    "application/vnd.databricks.v1+cell": {
     "cellMetadata": {
      "byteLimit": 2048000,
      "implicitDf": true,
      "rowLimit": 10000
     },
     "inputWidgets": {},
     "nuid": "514ac829-cf34-4109-b8ed-116efadad77e",
     "showTitle": false,
     "tableResultSettingsMap": {},
     "title": ""
    }
   },
   "outputs": [],
   "source": [
    "%sql\n",
    "select * from dev_catalog.default.gold_claim_summary"
   ]
  }
 ],
 "metadata": {
  "application/vnd.databricks.v1+notebook": {
   "computePreferences": null,
   "dashboards": [],
   "environmentMetadata": {
    "base_environment": "",
    "environment_version": "2"
   },
   "inputWidgetPreferences": null,
   "language": "python",
   "notebookMetadata": {
    "mostRecentlyExecutedCommandWithImplicitDF": {
     "commandId": 8650031495273797,
     "dataframes": [
      "_sqldf"
     ]
    },
    "pythonIndentUnit": 4
   },
   "notebookName": "Transformation",
   "widgets": {}
  },
  "language_info": {
   "name": "python"
  }
 },
 "nbformat": 4,
 "nbformat_minor": 0
}
