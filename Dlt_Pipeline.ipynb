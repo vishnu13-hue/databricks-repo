{
 "cells": [
  {
   "cell_type": "code",
   "execution_count": 0,
   "metadata": {
    "application/vnd.databricks.v1+cell": {
     "cellMetadata": {},
     "inputWidgets": {},
     "nuid": "6c63c581-372f-4f8d-a9ae-e09c83bb9557",
     "showTitle": false,
     "tableResultSettingsMap": {},
     "title": ""
    }
   },
   "outputs": [],
   "source": [
    "from pyspark.sql.functions import *\n",
    "import dlt\n",
    "\n",
    "# ---------------------------------------\n",
    "# 🥉 BRONZE LAYER: Auto Loader + Raw Ingest\n",
    "# ---------------------------------------\n",
    "@dlt.table(\n",
    "  comment=\"Raw CDC transaction data loaded from JSON via Auto Loader\"\n",
    ")\n",
    "@dlt.expect(\"valid_transaction_id\", \"transaction_id IS NOT NULL\")\n",
    "def dlt_bronze_transactions():\n",
    "    return (\n",
    "        spark.readStream.format(\"cloudFiles\")\n",
    "            .option(\"cloudFiles.format\", \"json\")\n",
    "            .load(spark.conf.get(\"input_path\"))\n",
    "            .withColumn(\"ingested_at\", current_timestamp())\n",
    "    )\n"
   ]
  },
  {
   "cell_type": "code",
   "execution_count": 0,
   "metadata": {
    "application/vnd.databricks.v1+cell": {
     "cellMetadata": {},
     "inputWidgets": {},
     "nuid": "d2c92694-ae2d-44b3-b83a-13db9a4ad685",
     "showTitle": false,
     "tableResultSettingsMap": {},
     "title": ""
    }
   },
   "outputs": [],
   "source": [
    "# ---------------------------------------\n",
    "# 🥈 SILVER LAYER: Filter + Transformation + SCD2 Fields\n",
    "# ---------------------------------------\n",
    "@dlt.table(\n",
    "  comment=\"Cleaned transaction records with enrichment and SCD2 tracking\"\n",
    ")\n",
    "@dlt.expect_or_drop(\"valid_status\", \"status IN ('insert', 'update', 'delete')\")\n",
    "@dlt.expect(\"positive_quantity\", \"quantity > 0\")\n",
    "@dlt.expect(\"positive_price\", \"price > 0\")\n",
    "def dlt_silver_transactions_scd2():\n",
    "    df = dlt.read_stream(\"dlt_bronze_transactions\")\n",
    "\n",
    "    return (\n",
    "         df.select(\n",
    "            col(\"transaction_id\").cast(\"string\"),\n",
    "            col(\"order_id\").cast(\"string\"),\n",
    "            col(\"customer_id\").cast(\"string\"),\n",
    "            col(\"product_id\").cast(\"string\"),\n",
    "            col(\"status\").cast(\"string\"),\n",
    "            col(\"quantity\").cast(\"int\"),\n",
    "            col(\"price\").cast(\"double\"),\n",
    "            col(\"event_ts\").cast(\"timestamp\"),\n",
    "            col(\"payment_method\").cast(\"string\"),\n",
    "            col(\"currency\").cast(\"string\"),\n",
    "            col(\"location\").cast(\"string\"),\n",
    "            col(\"tax\").cast(\"double\"),\n",
    "            col(\"discount\").cast(\"double\")\n",
    "        )\n",
    "          .filter(\"status != 'delete'\")\n",
    "          .withColumn(\"is_active\", lit(True))\n",
    "          .withColumn(\"effective_start\", col(\"event_ts\"))\n",
    "          .withColumn(\"effective_end\", lit(None).cast(\"timestamp\"))\n",
    "    )\n"
   ]
  },
  {
   "cell_type": "code",
   "execution_count": 0,
   "metadata": {
    "application/vnd.databricks.v1+cell": {
     "cellMetadata": {},
     "inputWidgets": {},
     "nuid": "8a545686-5f43-4cd8-968d-dedf8b0c0cac",
     "showTitle": false,
     "tableResultSettingsMap": {},
     "title": ""
    }
   },
   "outputs": [],
   "source": [
    "# ---------------------------------------\n",
    "# 🥇 GOLD LAYER: Final Cleaned Data for Dashboard\n",
    "# ---------------------------------------\n",
    "@dlt.table(\n",
    "  comment=\"Dashboard-ready transaction dataset with all essential fields\"\n",
    ")\n",
    "def dlt_gold_transaction_summary():\n",
    "    df = dlt.read(\"dlt_silver_transactions_scd2\")\n",
    "\n",
    "    return (\n",
    "        df.filter(\"is_active = true AND status IN ('insert', 'update')\")\n",
    "          .withColumn(\"total_amount\", col(\"quantity\") * col(\"price\"))\n",
    "          .select(\n",
    "              \"transaction_id\", \"order_id\", \"customer_id\", \"product_id\",\n",
    "              \"quantity\",\"price\",\"total_amount\",\n",
    "              \"discount\", \"tax\", \"currency\", \"payment_method\",\n",
    "              \"location\", \"event_ts\", \"status\",\n",
    "              \"effective_start\", \"effective_end\", \"is_active\"\n",
    "          )\n",
    "    )\n"
   ]
  }
 ],
 "metadata": {
  "application/vnd.databricks.v1+notebook": {
   "computePreferences": null,
   "dashboards": [],
   "environmentMetadata": {
    "base_environment": "",
    "environment_version": "2"
   },
   "inputWidgetPreferences": null,
   "language": "python",
   "notebookMetadata": {
    "pythonIndentUnit": 4
   },
   "notebookName": "Dlt_Pipeline",
   "widgets": {}
  },
  "language_info": {
   "name": "python"
  }
 },
 "nbformat": 4,
 "nbformat_minor": 0
}
