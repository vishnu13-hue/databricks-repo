{
 "cells": [
  {
   "cell_type": "code",
   "execution_count": 0,
   "metadata": {
    "application/vnd.databricks.v1+cell": {
     "cellMetadata": {
      "byteLimit": 2048000,
      "implicitDf": true,
      "rowLimit": 10000
     },
     "inputWidgets": {},
     "nuid": "b5fbedb8-72e5-4dc7-a43b-d891eac61175",
     "showTitle": false,
     "tableResultSettingsMap": {},
     "title": ""
    }
   },
   "outputs": [],
   "source": [
    "%sql\n",
    "select * from dev_catalog.default.bronze_customer"
   ]
  },
  {
   "cell_type": "code",
   "execution_count": 0,
   "metadata": {
    "application/vnd.databricks.v1+cell": {
     "cellMetadata": {
      "byteLimit": 2048000,
      "rowLimit": 10000
     },
     "inputWidgets": {},
     "nuid": "b7a3b90b-661d-496f-945b-35a700bbb821",
     "showTitle": false,
     "tableResultSettingsMap": {},
     "title": ""
    }
   },
   "outputs": [],
   "source": [
    "# ---------------------------------------------\n",
    "# Silver Notebook (silver_clean_customer.py)\n",
    "# ---------------------------------------------\n",
    "from pyspark.sql.functions import col, regexp_extract\n",
    "\n",
    "# Table & path setup\n",
    "catalog = \"dev_catalog\"\n",
    "schema = \"default\"\n",
    "bronze_table = f\"{catalog}.{schema}.bronze_customer\"\n",
    "silver_table = f\"{catalog}.{schema}.silver_customer\"\n",
    "checkpoint_path = \"/Volumes/dev_catalog/default/raw_json_data/checkpoints/silver_customerv2/\"\n",
    "\n",
    "# Read from Bronze Delta table\n",
    "bronze_df = spark.readStream.format(\"delta\").table(bronze_table)\n",
    "\n",
    "# Filter, clean, and transform\n",
    "df_cleaned = (\n",
    "    bronze_df\n",
    "    .filter(col(\"operation\").isin(\"insert\", \"update\"))\n",
    "    .dropna(subset=[\"customer_id\", \"email\", \"name\"])\n",
    "    .dropDuplicates([\"customer_id\", \"email\"])\n",
    "    .withColumn(\"name\", regexp_extract(col(\"name\"), r\"(Customer \\d+)\", 1))\n",
    "    .drop(\"address\", \"zip_code\")\n",
    ")\n",
    "\n",
    "# Write to Silver Delta table\n",
    "df_cleaned.writeStream \\\n",
    "    .format(\"delta\") \\\n",
    "    .option(\"checkpointLocation\", checkpoint_path) \\\n",
    "    .option(\"mergeSchema\", \"true\")\\\n",
    "    .outputMode(\"append\") \\\n",
    "    .trigger(availableNow=True)\\\n",
    "    .table(silver_table)\n"
   ]
  },
  {
   "cell_type": "code",
   "execution_count": 0,
   "metadata": {
    "application/vnd.databricks.v1+cell": {
     "cellMetadata": {
      "byteLimit": 2048000,
      "implicitDf": true,
      "rowLimit": 10000
     },
     "inputWidgets": {},
     "nuid": "67e055b2-6f41-4be6-a4f7-1ae7341cb6bf",
     "showTitle": false,
     "tableResultSettingsMap": {},
     "title": ""
    }
   },
   "outputs": [],
   "source": [
    "%sql\n",
    "select * from  dev_catalog.default.silver_customer"
   ]
  },
  {
   "cell_type": "code",
   "execution_count": 0,
   "metadata": {
    "application/vnd.databricks.v1+cell": {
     "cellMetadata": {
      "byteLimit": 2048000,
      "implicitDf": true,
      "rowLimit": 10000
     },
     "inputWidgets": {},
     "nuid": "5012c8a6-0232-4300-9dd9-d950180a2939",
     "showTitle": false,
     "tableResultSettingsMap": {},
     "title": ""
    }
   },
   "outputs": [],
   "source": [
    "%sql\n",
    "ALTER TABLE dev_catalog.default.silver_customer\n",
    "SET TBLPROPERTIES ('delta.columnMapping.mode' = 'name');\n"
   ]
  },
  {
   "cell_type": "code",
   "execution_count": 0,
   "metadata": {
    "application/vnd.databricks.v1+cell": {
     "cellMetadata": {
      "byteLimit": 2048000,
      "implicitDf": true,
      "rowLimit": 10000
     },
     "inputWidgets": {},
     "nuid": "3253c134-6bc1-4442-b43e-5454337f1b70",
     "showTitle": false,
     "tableResultSettingsMap": {},
     "title": ""
    }
   },
   "outputs": [],
   "source": [
    "%sql\n",
    "ALTER TABLE dev_catalog.default.silver_customer\n",
    "DROP COLUMN city;\n"
   ]
  }
 ],
 "metadata": {
  "application/vnd.databricks.v1+notebook": {
   "computePreferences": null,
   "dashboards": [],
   "environmentMetadata": {
    "base_environment": "",
    "environment_version": "2"
   },
   "inputWidgetPreferences": null,
   "language": "python",
   "notebookMetadata": {
    "mostRecentlyExecutedCommandWithImplicitDF": {
     "commandId": 7883332051497095,
     "dataframes": [
      "_sqldf"
     ]
    },
    "pythonIndentUnit": 4
   },
   "notebookName": "Auto_loader - Silver_layer",
   "widgets": {}
  },
  "language_info": {
   "name": "python"
  }
 },
 "nbformat": 4,
 "nbformat_minor": 0
}
