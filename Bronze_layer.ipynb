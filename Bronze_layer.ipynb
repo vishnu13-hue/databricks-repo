{
 "cells": [
  {
   "cell_type": "code",
   "execution_count": 0,
   "metadata": {
    "application/vnd.databricks.v1+cell": {
     "cellMetadata": {
      "byteLimit": 2048000,
      "rowLimit": 10000
     },
     "inputWidgets": {},
     "nuid": "aab8ad47-d0d7-42b9-8e38-fd9ef46154d1",
     "showTitle": false,
     "tableResultSettingsMap": {},
     "title": ""
    }
   },
   "outputs": [],
   "source": [
    "# ---------------------------------------------\n",
    "# Bronze Notebook (bronze_notebook.py)\n",
    "# ---------------------------------------------\n",
    "from pyspark.sql.functions import current_timestamp\n",
    "\n",
    "# Load hospital dataset\n",
    "hospital_df = (\n",
    "    spark.read.option(\"header\", True)\n",
    "    .csv(\"/Volumes/dev_catalog/default/raw_volume/hospital_datasets/hospital1_claim_data.csv\")\n",
    "    .withColumn(\"ingest_timestamp\", current_timestamp())\n",
    ")\n",
    "hospital_df.write.mode(\"overwrite\").format(\"delta\").saveAsTable(\"dev_catalog.default.bronze_hospital_dataset\")\n",
    "\n",
    "# Load transactions dataset\n",
    "transactions_df = (\n",
    "    spark.read.option(\"header\", True)\n",
    "    .csv(\"/Volumes/dev_catalog/default/raw_volume/hospital_datasets/transactions.csv\")\n",
    "    .withColumn(\"ingest_timestamp\", current_timestamp())\n",
    ")\n",
    "transactions_df.write.mode(\"overwrite\").format(\"delta\").saveAsTable(\"dev_catalog.default.bronze_transactions\")\n",
    "\n",
    "\n",
    "\n",
    "\n",
    "\n"
   ]
  }
 ],
 "metadata": {
  "application/vnd.databricks.v1+notebook": {
   "computePreferences": null,
   "dashboards": [],
   "environmentMetadata": {
    "base_environment": "",
    "environment_version": "2"
   },
   "inputWidgetPreferences": null,
   "language": "python",
   "notebookMetadata": {
    "pythonIndentUnit": 4
   },
   "notebookName": "Bronze_layer",
   "widgets": {}
  },
  "language_info": {
   "name": "python"
  }
 },
 "nbformat": 4,
 "nbformat_minor": 0
}
